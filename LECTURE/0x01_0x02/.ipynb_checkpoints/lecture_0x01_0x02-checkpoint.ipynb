{
 "cells": [
  {
   "cell_type": "markdown",
   "id": "a8152951-3436-421e-b06b-b04f881335ff",
   "metadata": {},
   "source": [
    "## 1. 시간 복잡도\n",
    "- 입력의 크기와 문제를 해결하는 데 걸리는 시간의 상관관계\n",
    "- 컴퓨터는 1초에 대략 3억~5억개의 연산 실행 가능\n",
    "- 문제에서 주어지는 시간제한은 보통 1~5초. 입력의 크기에 따라 시간복잡도 고려\n",
    "- **Big O** : 프로그램을 실행하는 데 걸리는 최악의 시간, 주어진 식을 값이 가장 큰 대표항만 남겨서 나타내는 방법\n",
    "- O($1$) > O($logN$) > O($N$) > O($NlogN$) > O($N**2$) > O($2**N$) > O($N!$)"
   ]
  },
  {
   "cell_type": "markdown",
   "id": "94a0558e-9cab-47b9-a81b-6c0e3f8c0c7e",
   "metadata": {},
   "source": [
    "- 문제1: N 이하의 자연수 중에서 3의 배수이거나 5의 배수인 수를 모두 합한 값을 반환하는 함수 func1을 작성하라. N은 10만 이하의 자연수이다.\n",
    "```python\n",
    "func1(16) = 60\n",
    "func1(34567) = 278812814\n",
    "func(27639) = 178254968\n",
    "```"
   ]
  },
  {
   "cell_type": "code",
   "execution_count": 9,
   "id": "98c0aaca-20f2-4d1b-b892-f5ee0146b2d4",
   "metadata": {},
   "outputs": [
    {
     "name": "stdout",
     "output_type": "stream",
     "text": [
      "60\n",
      "278812814\n",
      "178254968\n",
      "\n",
      "시간복잡도: O(N)\n"
     ]
    }
   ],
   "source": [
    "def func1(N):\n",
    "    cnt = 0\n",
    "    for i in range(1, N+1):\n",
    "        if (i%3 == 0 or i%5 == 0):\n",
    "            cnt += i\n",
    "    return cnt\n",
    "\n",
    "print(func1(16))\n",
    "print(func1(34567))\n",
    "print(func1(27639))\n",
    "print(\"\\n시간복잡도: O(N)\")"
   ]
  },
  {
   "cell_type": "markdown",
   "id": "25ac29a8-1889-4e2e-9f36-92ccec3539c6",
   "metadata": {},
   "source": [
    "- 문제 2: 주어진 길이 N인 int 배열 arr에서 합이 100인 서로 다른 위치의 두 원소가 존재하면 1, 존재하지 않면 0을 반환하는 함수 int func2(int arr[], int N)을 작성하라. 단, arr의 각 수는 0 이상 100 이하 N은 1000 이하\n",
    "```python\n",
    "func2({1, 52, 48}, 3)     => 1  // 52 + 48 = 100\n",
    "func2({50, 42}, 2)        => 0  // 합 100 불가능\n",
    "func2({4, 13, 63, 87}, 4) => 1  // 13 + 87 = 100\n",
    "```"
   ]
  },
  {
   "cell_type": "code",
   "execution_count": 7,
   "id": "80b93932-1371-483c-816e-514192cedec5",
   "metadata": {},
   "outputs": [
    {
     "name": "stdout",
     "output_type": "stream",
     "text": [
      "1\n",
      "0\n",
      "1\n",
      "\n",
      "시간복잡도: O(N^2)\n"
     ]
    }
   ],
   "source": [
    "def func2(arr, N):\n",
    "    for i in range(0, N-1):\n",
    "        for j in range(i+1, N):\n",
    "            if (arr[i] + arr[j] == 100):\n",
    "                return 1\n",
    "    return 0\n",
    "\n",
    "print(func2([1, 52, 48], 3))\n",
    "print(func2([50, 42], 2))\n",
    "print(func2([4, 13, 63, 87], 4))\n",
    "\n",
    "print(\"\\n시간복잡도: O(N^2)\")"
   ]
  },
  {
   "cell_type": "markdown",
   "id": "47c49938-d836-463e-8812-7cd8379d6cca",
   "metadata": {},
   "source": [
    "- 문제 3: N이 제곱수이면 1을, 아니면 0을 반환하는 함수 func3(int N)을 작성하라. N은 10억 이하의 자연수이다.\n",
    "```python\n",
    "func3(9) = 1\n",
    "func3(693953651) = 0\n",
    "func3(756580036) = 1\n",
    "```"
   ]
  },
  {
   "cell_type": "code",
   "execution_count": 16,
   "id": "8c20b7b2-2a34-4b5e-8f3e-b3663f88a550",
   "metadata": {},
   "outputs": [
    {
     "name": "stdout",
     "output_type": "stream",
     "text": [
      "1\n",
      "0\n",
      "1\n",
      "\n",
      "시간 복잡도: O(logN)\n"
     ]
    }
   ],
   "source": [
    "def func3(N):\n",
    "    i = 1\n",
    "    while (i**2 <= N):\n",
    "        if (i**2 == N):\n",
    "            return 1\n",
    "        i += 1\n",
    "    return 0\n",
    "\n",
    "print(func3(9))\n",
    "print(func3(693953651))\n",
    "print(func3(756580036))\n",
    "print(\"\\n시간 복잡도: O(logN)\")"
   ]
  },
  {
   "cell_type": "markdown",
   "id": "b5005912-2028-4994-849f-f072d4bd4f0f",
   "metadata": {},
   "source": [
    "- 문제 4: N 이하 수 중에서 가장 큰 2의 거듭제곱수를 반환하는 함수 func4(int N)을 작성하라. N은 10억 이하의 자연수이다.\n",
    "```python\n",
    "func4(5) = 4\n",
    "func4(97616282) = 67108864\n",
    "func4(1024) = 1024\n",
    "```"
   ]
  },
  {
   "cell_type": "code",
   "execution_count": 19,
   "id": "8309f190-1fa9-4a65-a6bb-f64e4ee29326",
   "metadata": {},
   "outputs": [
    {
     "name": "stdout",
     "output_type": "stream",
     "text": [
      "4\n",
      "67108864\n",
      "1024\n",
      "\n",
      "시간복잡도: O(2**N)\n"
     ]
    }
   ],
   "source": [
    "def func4(N):\n",
    "    # 방법 1\n",
    "    val = 1\n",
    "    while (2*val <= N): val *= 2\n",
    "    return val\n",
    "\n",
    "    # 방법 2\n",
    "    import math\n",
    "    power = int(math.log2(N))\n",
    "    return 2**power\n",
    "\n",
    "print(func4(5))\n",
    "print(func4(97616282))\n",
    "print(func4(1024))\n",
    "print(\"\\n시간복잡도: O(2**N)\")"
   ]
  },
  {
   "cell_type": "markdown",
   "id": "6ee9d999-41d0-4644-be94-30fc8d3d2828",
   "metadata": {},
   "source": [
    "---"
   ]
  },
  {
   "cell_type": "markdown",
   "id": "c17127b2-f40a-4714-a461-58992873526b",
   "metadata": {},
   "source": [
    "## 2. 공간 복잡도\n",
    "- 입력의 크기와 문제의 해결에 필요한 공간의 상관관계\n",
    "- 예) 크기 N짜리 2차원 배열: O($N**2)\n",
    "- 예) 배열이 필요없다면: O(1)\n",
    "- 메모리 제한이 512MB일 때, int 변수를 대략 1.2억개 선언 가능"
   ]
  },
  {
   "cell_type": "markdown",
   "id": "c861ccb0-9acb-48a3-a4b5-12ebaab7d2a4",
   "metadata": {},
   "source": [
    "---"
   ]
  },
  {
   "cell_type": "markdown",
   "id": "d4bbd5e6-ae93-44b4-a637-8dbde7670a10",
   "metadata": {},
   "source": [
    "## 3. 자료형"
   ]
  },
  {
   "cell_type": "markdown",
   "id": "5c0e6c08-1334-41dd-9b07-cfe55ae70bfb",
   "metadata": {
    "jp-MarkdownHeadingCollapsed": true
   },
   "source": [
    "### 정수 자료형\n",
    "1. C++\n",
    "   - char(1byte): 127까지 표현 가능\n",
    "   - short(2byte)\n",
    "   - int(4byte): 21억까지 표현 가능\n",
    "   - long long(8byte): int 자료형의 범위를 넘어서는 수를 저장하려면 long long 사용\n",
    "2. 파이썬\n",
    "3. - 자료형 범위 고려하지 않아도 됨"
   ]
  },
  {
   "cell_type": "markdown",
   "id": "58ceaf97-3cc9-4dc7-b906-820cc6e637c3",
   "metadata": {},
   "source": [
    "## 실수 자료형\n",
    "- 연산 과정에서 오차 발생\n",
    "- float이 double 내포. 64비트\n",
    "- 실수를 비교할 때는 등호를 사용하면 안 됨"
   ]
  },
  {
   "cell_type": "code",
   "execution_count": 26,
   "id": "235b2fd6-1468-4903-a4a8-7fab429fad4d",
   "metadata": {},
   "outputs": [
    {
     "name": "stdout",
     "output_type": "stream",
     "text": [
      "True\n",
      "3.141593\n"
     ]
    }
   ],
   "source": [
    "# 정밀도 문제 해결\n",
    "a, b = 0.2, 0.1+0.1\n",
    "print(abs(a - b) < 1e-9)  # 실수 비교는 이렇게\n",
    "# 소수점 제한 출력\n",
    "c = 3.1415926535\n",
    "print(f\"{c:.6f}\")  # 소수점 아래 6자리까지 출력"
   ]
  },
  {
   "cell_type": "markdown",
   "id": "34075f6d-c847-450e-81be-3c44386ca796",
   "metadata": {},
   "source": [
    "---"
   ]
  },
  {
   "cell_type": "markdown",
   "id": "fd908172-d5d0-4db6-9a2e-a8eb7c61a840",
   "metadata": {
    "jp-MarkdownHeadingCollapsed": true
   },
   "source": [
    "## 4. 표준 입출력"
   ]
  },
  {
   "cell_type": "markdown",
   "id": "5733bb19-40af-47c8-b29d-7f4a69e2d9a0",
   "metadata": {},
   "source": [
    "### 표준 입력\n",
    "\n",
    "1. input() - 느림\n",
    "```python\n",
    "a = int(input().strip())\n",
    "print(a)\n",
    "```\n",
    "---\n",
    "2. sys.stdin.readline() - 바름\n",
    "```python\n",
    "import sys\n",
    "b = sys.stdin.readline()\n",
    "print(b)\n",
    "```\n",
    "---\n",
    "3. **여러 값 입력 받기**\n",
    "- `split()`으로 입력 분리 후 `map()`으로 여러 변수에 한꺼번에 저장 가능\n",
    "```python\n",
    "c, d = map(int, input().split())\n",
    "arr = list(map(int, input().split()))\n",
    "print(c, d, arr)\n",
    "```"
   ]
  },
  {
   "cell_type": "markdown",
   "id": "fa56e9f0-3594-4462-861d-f086e52e7b21",
   "metadata": {},
   "source": [
    "### 2. 표준 출력\n",
    "\n",
    "1. print() - 느림\n",
    "```python\n",
    "print(\"Hello\", 123) # Hello 123\n",
    "print(\"A\", end='') #\n",
    "print(\"b\", end='\\n') # Ab\n",
    "```\n",
    "---\n",
    "2. sys.stdout.write() - 빠름\n",
    "- 한 번에 하나의 요소만 출력 가능\n",
    "```python\n",
    "import sys\n",
    "write = sys.stdout.write\n",
    "write(\"A\") # A\n",
    "```\n",
    "---\n",
    "3. *리스트 - 리스트 출력\n",
    "```python\n",
    "arr = [1, 2, 3, 4]\n",
    "print(*arr) # 1 2 3 4\n",
    "```"
   ]
  },
  {
   "cell_type": "markdown",
   "id": "9797cee8-a2e6-42a7-81db-e48b071e3c66",
   "metadata": {},
   "source": [
    "### 3. 대량 입출력\n",
    "```python\n",
    "import sys\n",
    "input = sys.stdin.readline\n",
    "write = sys.stdout.write\n",
    "\n",
    "n = int(input())\n",
    "arr = []\n",
    "for _ in range(n):\n",
    "    arr.append(int(input()))\n",
    "\n",
    "# 출력 방법 1\n",
    "print('\\n'.join(map(str, arr)))  # 줄바꿈 기준 한 번에 출력\n",
    "\n",
    "# 출력 방법 2\n",
    "for num in arr:\n",
    "    write(f\"{num}\\n\")\n",
    "```"
   ]
  },
  {
   "cell_type": "markdown",
   "id": "5dbc0ad8-3db1-407b-87e3-08d99369bf43",
   "metadata": {},
   "source": [
    "## 5. 코딩테스트 팁\n",
    "1. 토딩테스트와 개발은 다르다. 남에게 보여주는 것이 아니므로, 코드가 깔끔한 것보다 자신이 편하게 작성하는 것이 중요하다.\n",
    "2. 디버거 사용 대신 중간 print 사용을 권장한다."
   ]
  }
 ],
 "metadata": {
  "kernelspec": {
   "display_name": "Python 3 (ipykernel)",
   "language": "python",
   "name": "python3"
  },
  "language_info": {
   "codemirror_mode": {
    "name": "ipython",
    "version": 3
   },
   "file_extension": ".py",
   "mimetype": "text/x-python",
   "name": "python",
   "nbconvert_exporter": "python",
   "pygments_lexer": "ipython3",
   "version": "3.12.7"
  }
 },
 "nbformat": 4,
 "nbformat_minor": 5
}
