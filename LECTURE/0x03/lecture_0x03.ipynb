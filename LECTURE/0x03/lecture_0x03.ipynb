{
 "cells": [
  {
   "cell_type": "markdown",
   "id": "2a13dcb4-f9fe-41fb-a81d-8d9c83258c29",
   "metadata": {},
   "source": [
    "## 1. 리스트 생성과 초기화\n",
    "- 동적으로 크기가 변하는 배열 형태의 자료구조\n",
    "- C++과 달리 자유롭게 요소를 추가하고 삭제 가능\n",
    "\n",
    "```python\n",
    "# 빈 리스트 생성 - O(1) time, O(1) space\n",
    "arr = []\n",
    "\n",
    "# 특정 크기로 초기화 - O(N) time, O(N) space (N=5)\n",
    "arr = [0] * 5\n",
    "\n",
    "# 직접 값 지정 - O(N) time, O(N) space\n",
    "arr = [1, 2, 3, 4]\n",
    "\n",
    "# 리스트 컴프리헨션으로 생성 - O(N) time, O(N) space\n",
    "arr = [i * 2 for i in range(5)]\n",
    "```"
   ]
  },
  {
   "cell_type": "markdown",
   "id": "73172ce0-05e8-487e-940b-2f31ad0c658a",
   "metadata": {},
   "source": [
    "---"
   ]
  },
  {
   "cell_type": "markdown",
   "id": "2b2cd773-71ab-43d2-90ca-20e871a456ff",
   "metadata": {},
   "source": [
    "## 2. 리스트 접근과 수정\n",
    "- 인덱스를 통해 각 요소에 접근/수정/삭제 가능\n",
    "- 슬라이싱을 통해 부분 리스트도 쉽게 다룰 수 있음\n",
    "\n",
    "```python\n",
    "arr = [1, 2, 3, 4, 5]\n",
    "\n",
    "# 접근 - O(1) time\n",
    "print(arr[0])\n",
    "\n",
    "# 수정 - O(1) time\n",
    "arr[1] = 99\n",
    "\n",
    "# 슬라이싱 - O(K) time, O(K) space (K=슬라이싱 길이)\n",
    "print(arr[1:4])\n",
    "print(arr[::-1]) # O(N) time, O(N) space\n",
    "```"
   ]
  },
  {
   "cell_type": "markdown",
   "id": "6eb29c72-8c36-46b7-a174-0b92ca04f933",
   "metadata": {},
   "source": [
    "---"
   ]
  },
  {
   "cell_type": "markdown",
   "id": "2bf2631c-1f71-44c6-83f8-f2f194015f75",
   "metadata": {},
   "source": [
    "## 3. 삽입과 삭제\n",
    "- 리스트의 끝, 중간 어디든 삽입/삭제가 다양한 방식으로 지원됨\n",
    "- 다만 중간 삽입/삭제는 시간복잡도 O(N)이기 때문에 대규모 자료에서 성능을 고려해야 함\n",
    "\n",
    "```python\n",
    "arr = [1, 2, 3]\n",
    "\n",
    "# 끝에 삽입 - O(1) amortized time, O(1) space\n",
    "arr.append(4)  # [1, 2, 3, 4]\n",
    "\n",
    "# 중간에 삽입 - O(N) time, O(1) space (중간 삽입 → 이동 필요)\n",
    "arr.insert(1, 10)  # [1, 10, 2, 3, 4]\n",
    "\n",
    "# 끝에서 삭제 - O(1) time, O(1) space\n",
    "arr.pop()  # [1, 10, 2, 3]\n",
    "\n",
    "# 특정 인덱스 삭제 - O(N) time, O(1) space\n",
    "arr.pop(1)  # [1, 2, 3]\n",
    "\n",
    "# 값으로 삭제 (첫 번째 등장) - O(N) time (탐색 포함), O(1) space\n",
    "arr.remove(2)  # [1, 3]\n",
    "\n",
    "# 전체 삭제 - O(N) time, O(1) space\n",
    "arr.clear()  # []\n",
    "```"
   ]
  },
  {
   "cell_type": "markdown",
   "id": "1617147e-5375-4413-b783-52342ee8fe34",
   "metadata": {},
   "source": [
    "---"
   ]
  },
  {
   "cell_type": "markdown",
   "id": "a5c7408a-c748-4fa9-b3f4-c3b2aadb4d07",
   "metadata": {},
   "source": [
    "## 4. 탐색과 카운트\n",
    "- 값이 존재하는지 확인\n",
    "- 인덱스 찾기\n",
    "- 몇 번 나오는지 확인\n",
    "\n",
    "```python\n",
    "arr = [1, 2, 2, 3, 4]\n",
    "\n",
    "# 존재 여부 - O(N) time, O(1) space\n",
    "if 2 in arr:\n",
    "    print(\"2가 존재함\")\n",
    "\n",
    "# 인덱스 조회 - O(N) time, O(1) space\n",
    "print(arr.index(3))  # 3\n",
    "\n",
    "# 개수 세기 - O(N) time, O(1) space\n",
    "print(arr.count(2))  # 2\n",
    "```"
   ]
  },
  {
   "cell_type": "markdown",
   "id": "02418987-a301-4ebe-9f46-a16d5e201bce",
   "metadata": {},
   "source": [
    "---"
   ]
  },
  {
   "cell_type": "markdown",
   "id": "ef3708ee-c074-45e5-ae91-8e528f6d6f28",
   "metadata": {},
   "source": [
    "## 5. 정렬과 뒤집기\n",
    "- 기본적으로 정렬이 가능하며, 내림차순이나 사용자 정의 기준에 의한 정렬도 가능함\n",
    "\n",
    "```python\n",
    "arr = [3, 1, 4, 2]\n",
    "\n",
    "# 오름차순 정렬 (제자리: in-place) - O(N log N) time, O(1) space\n",
    "arr.sort()  # [1, 2, 3, 4]\n",
    "\n",
    "# 내림차순 정렬 - O(N log N) time, O(1) space\n",
    "arr.sort(reverse=True)  # [4, 3, 2, 1]\n",
    "\n",
    "# 정렬된 새 리스트 반환 - O(N log N) time, O(N) space (새 리스트 생성)\n",
    "sorted_arr = sorted(arr)  # 원본은 변경되지 않음\n",
    "\n",
    "# 리스트 뒤집기 - O(N) time, O(1) space\n",
    "arr.reverse()\n",
    "```"
   ]
  },
  {
   "cell_type": "markdown",
   "id": "d8e5451f-bcdf-4671-a31b-e7f62fba0c7f",
   "metadata": {},
   "source": [
    "---"
   ]
  },
  {
   "cell_type": "markdown",
   "id": "ff97f2b6-cbac-4c2a-9dbb-276544a78e86",
   "metadata": {},
   "source": [
    "## 6. 리스트 복사\n",
    "- 리스트는 참조형 자료이기 때문에 복사를 정확하게 이해하지 못하면 예기치 않은 버그가 발생할 수 있음.\n",
    "\n",
    "```python\n",
    "original = [1, 2, 3]\n",
    "\n",
    "# 얕은 복사 - O(N) time, O(N) space\n",
    "copy1 = original[:]\n",
    "copy2 = original.copy()\n",
    "\n",
    "# 깊은 복사 (중첩된 리스트 구조에서 사용) - O(N) time, O(N) space\n",
    "import copy\n",
    "copy3 = copy.deepcopy(original)\n",
    "```"
   ]
  },
  {
   "cell_type": "markdown",
   "id": "74b9970f-1293-4aa8-ba23-f88757a2e886",
   "metadata": {},
   "source": [
    "---"
   ]
  },
  {
   "cell_type": "markdown",
   "id": "c32d7482-9024-460f-964e-df4262bce629",
   "metadata": {},
   "source": [
    "## 7. 리스트 컴프리헨션\n",
    "- Python의 대표적인 문법 중 하나. 간단하고 직관적인 리스트 생성이 가능함\n",
    "-  필터링과 변환을 동시에 처리할 수 있어 코딩테스트에 매우 유용하다.\n",
    "\n",
    "```python\n",
    "# 짝수만 제곱 - O(N) time, O(N) space (조건에 따라 N/2정도 예상)\n",
    "squares = [x * x for x in range(10) if x % 2 == 0]  # [0, 4, 16, 36, 64]\n",
    "```"
   ]
  },
  {
   "cell_type": "markdown",
   "id": "ce72dca6-fb86-4bec-a065-6126062e8fa7",
   "metadata": {},
   "source": [
    "---"
   ]
  },
  {
   "cell_type": "markdown",
   "id": "6542b71c-fb72-44fe-b7c5-263dc320c89b",
   "metadata": {},
   "source": [
    "## 8. 리스트 유틸 함수\n",
    "1. enumerate(): 인덱스와 값을 동시에 가져올 때 유용\n",
    "2. zip(): 여러 리스트를 동시에 순회할 때\n",
    "3. map(): 문자열 입력을 숫자로 변환할 때 자주 사용\n",
    "4. heapq: 최소/최대 힙 구현\n",
    "5. bisect: 정렬된 리스트에 이진 탐색 기반 삽입/탐색\n",
    "\n",
    "```python\n",
    "arr = [10, 20, 30]\n",
    "\n",
    "# O(N) time, O(1) space (enumerate는 제너레이터)\n",
    "for i, val in enumerate(arr):  \n",
    "    print(f\"index {i}, value {val}\")\n",
    "    \n",
    "# map으로 한 줄 입력 처리 - O(N) time, O(N) space (입력 N개)\n",
    "nums = list(map(int, input().split()))  \n",
    "```"
   ]
  },
  {
   "cell_type": "markdown",
   "id": "a993134d-3b62-4de0-82cc-f362b855f3d4",
   "metadata": {},
   "source": [
    "---"
   ]
  },
  {
   "cell_type": "markdown",
   "id": "570860d6-128a-46c1-9725-aec9783041b0",
   "metadata": {},
   "source": [
    "## 9. 코딩테스트 실전 활용 전략\n",
    "1. 중간 삽입/삭제가 많은 경우는 collections.deque 사용이 훨씬 빠르다.\n",
    "2. 정렬된 상태 유지가 필요한 경우 bisect.insort()를 사용하면 자동 정렬 리스트처럼 사용 가능하다.\n",
    "3. 이진 탐색이 필요한 경우 bisect.bisect_left, bisect.bisect_right를 통해 lower/upper bound 탐색을 구현할 수 있다.\n",
    "4. 빈도 기반 문제에서는 collections.Counter, defaultdict(int)를 활용하면 효율적으로 처리할 수 있다."
   ]
  }
 ],
 "metadata": {
  "kernelspec": {
   "display_name": "Python 3 (ipykernel)",
   "language": "python",
   "name": "python3"
  },
  "language_info": {
   "codemirror_mode": {
    "name": "ipython",
    "version": 3
   },
   "file_extension": ".py",
   "mimetype": "text/x-python",
   "name": "python",
   "nbconvert_exporter": "python",
   "pygments_lexer": "ipython3",
   "version": "3.12.3"
  }
 },
 "nbformat": 4,
 "nbformat_minor": 5
}
