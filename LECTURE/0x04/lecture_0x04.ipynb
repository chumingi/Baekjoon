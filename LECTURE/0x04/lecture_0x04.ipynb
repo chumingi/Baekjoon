{
 "cells": [
  {
   "cell_type": "markdown",
   "id": "6feddae7-743e-432c-9e10-14a356803f13",
   "metadata": {},
   "source": [
    "# 0x04강 연결 리스트"
   ]
  },
  {
   "cell_type": "markdown",
   "id": "55ddd545-d52e-4b00-803d-1a846359b58f",
   "metadata": {},
   "source": [
    "## 1. 정의와 성질\n",
    "\n",
    "### 1-1. 정의\n",
    "- 원소를 저장할 때, 그 다음 원소가 있는 위치를 포함하는 방식으로 저장하는 자료구조\n",
    "\n",
    "### 1-2. 성질\n",
    "1. k번째 원소를 찾기 위해 O(k)의 시간이 필요함.\n",
    "2. 임의의 위치에 원소를 추가/제거할 때 O(1)의 시간이 필요함.\n",
    "\n",
    "### 1-3. 종류\n",
    "1. 단일 연결 리스트: 각 원소가 자신의 다음 원소의 주소를 가지고 있는 연결 리스트\n",
    "2. 이중 연결 리스트: 각 원소가 자신의 이전 원소와 다음 원소의 주소를 가지고 있는 연결 리스트\n",
    "3. 원형 연결 리스트: 끝이 처음과 연결되어 있는 단일/이중 연결 리스트"
   ]
  },
  {
   "cell_type": "markdown",
   "id": "07ac07cf-2300-4ddb-a631-93f2dc2bb617",
   "metadata": {},
   "source": [
    "---"
   ]
  },
  {
   "cell_type": "markdown",
   "id": "d19f4373-5082-4fb4-8ce7-fe20ef9adffd",
   "metadata": {},
   "source": [
    "## 2. Python에서의 연결리스트 기본 구현\n",
    "- 설명: 값(val)과 다음 노드를 가리키는 포인터(next)로 구성\n",
    "- 메모리: 노드 하나당 O(1) 공간"
   ]
  },
  {
   "cell_type": "code",
   "execution_count": 11,
   "id": "c8d597d8-098d-4244-9729-5b0003e59619",
   "metadata": {},
   "outputs": [],
   "source": [
    "class ListNode:\n",
    "    def __init__(self, val=0, nxt=None):\n",
    "        self.val = val\n",
    "        self.next = nxt"
   ]
  },
  {
   "cell_type": "markdown",
   "id": "baeacd0f-9ff9-4645-8a82-90dca4009bab",
   "metadata": {},
   "source": [
    "### 2-1. 리스트에 노드 추가 (맨 앞)\n",
    "- 시간복잡도: O(1)\n",
    "- 공간복잡도: O(1) (새로운 노드 하나)"
   ]
  },
  {
   "cell_type": "code",
   "execution_count": 5,
   "id": "2d20bbb7-9775-47f3-9b1b-7c5ebf38331d",
   "metadata": {
    "jp-MarkdownHeadingCollapsed": true
   },
   "outputs": [],
   "source": [
    "def insert_head(head, val):\n",
    "    \"\"\"새로운 노드를 리스트 맨 앞에 붙이고 새 head를 반환\"\"\"\n",
    "    node = ListNode(val, head)\n",
    "    return node\n",
    "\n",
    "# 사용 예\n",
    "head = None\n",
    "for x in [3, 2, 1]:\n",
    "    head = insert_head(head, x)"
   ]
  },
  {
   "cell_type": "code",
   "execution_count": 2,
   "id": "1dea0056-7555-451c-a4da-922116cf585d",
   "metadata": {},
   "outputs": [
    {
     "name": "stdout",
     "output_type": "stream",
     "text": [
      "0\n"
     ]
    }
   ],
   "source": []
  },
  {
   "cell_type": "markdown",
   "id": "2f5b89ce-639d-4975-a1d8-0209f2a4f273",
   "metadata": {},
   "source": [
    "### 2-2. 리스트에 노드 추가 (맨 뒤)\n",
    "- 시간복잡도: O(N)\n",
    "- 공간복잡도: O(1)"
   ]
  },
  {
   "cell_type": "code",
   "execution_count": 18,
   "id": "bbcf44cd-f74f-44b7-bb7f-094574ec5e1c",
   "metadata": {},
   "outputs": [],
   "source": [
    "def insert_tail(head, val):\n",
    "    \"\"\"리스트 끝에 노드를 추가\"\"\"\n",
    "    node = ListNode(val)\n",
    "    if not head:\n",
    "        return node\n",
    "    cur = head\n",
    "    while cur.next:\n",
    "        cur = cur.next\n",
    "    cur.next = node\n",
    "    return head\n",
    "\n",
    "# 사용 예\n",
    "head = None\n",
    "for x in [3, 2, 1]:\n",
    "    head = insert_tail(head, x)"
   ]
  },
  {
   "cell_type": "markdown",
   "id": "2e25ddbd-335d-4934-91a6-3fd5d217356e",
   "metadata": {},
   "source": [
    "---"
   ]
  },
  {
   "cell_type": "markdown",
   "id": "d8031dc3-c819-43ca-abec-e0d258462350",
   "metadata": {},
   "source": [
    "## 3. 중간 위치 삽입/삭제 기법\n",
    "- 연결 리스트의 강점은 **중간에 포인터만 바꿔치기**하면 O(1)에 삽입/삭제가 가능하다는 점\n",
    "- 시간복잡도: O(idx) → 최악 O(N)\n",
    "- 공간복잡도: O(1)"
   ]
  },
  {
   "cell_type": "code",
   "execution_count": 21,
   "id": "d94d6a01-062a-4849-a577-bb4985bb463d",
   "metadata": {},
   "outputs": [],
   "source": [
    "def insert_at(head, idx, val):\n",
    "    \"\"\"idx 위치(0-based)에 삽입\"\"\"\n",
    "    dummy = ListNode(0, head)\n",
    "    prev = dummy\n",
    "    for _ in range(idx):\n",
    "        if not prev.next:\n",
    "            break\n",
    "        prev = prev.next\n",
    "    node = ListNode(val, prev.next)\n",
    "    prev.next = node\n",
    "    return dummy.next\n",
    "\n",
    "def delete_at(head, idx):\n",
    "    \"\"\"idx 위치의 노드 삭제\"\"\"\n",
    "    dummy = ListNode(0, head)\n",
    "    prev = dummy\n",
    "    for _ in range(idx):\n",
    "        prev = prev.next\n",
    "        if not prev:\n",
    "            return dummy.next\n",
    "    if prev.next:\n",
    "        prev.next = prev.next.next\n",
    "    return dummy.next"
   ]
  },
  {
   "cell_type": "markdown",
   "id": "ec06bc82-d316-4d02-8061-a8514c08c419",
   "metadata": {},
   "source": [
    "---"
   ]
  },
  {
   "cell_type": "markdown",
   "id": "0a318b05-6426-445f-b2d7-830d9ad9c771",
   "metadata": {},
   "source": [
    "## 4. 리스트 탐색 기법"
   ]
  },
  {
   "cell_type": "markdown",
   "id": "c5885c0c-4272-46aa-b483-6cebfab9bc81",
   "metadata": {},
   "source": [
    "### 4-1. 한 번 순회로 중간 노드 찾기 (Fast / Slow)\n",
    "- 시간복잡도: O(N)\n",
    "- 공간복잡도: O(1)"
   ]
  },
  {
   "cell_type": "code",
   "execution_count": 22,
   "id": "15dedee8-3d9c-4439-9ee7-6cfeb5274ebd",
   "metadata": {},
   "outputs": [],
   "source": [
    "def find_middle(head):\n",
    "    slow = fast = head\n",
    "    while fast and fast.next:\n",
    "        slow = slow.next\n",
    "        fast = fast.next.next\n",
    "    return slow  # 리스트 길이 n이라면 ⌈n/2⌉번째"
   ]
  },
  {
   "cell_type": "markdown",
   "id": "30c8aad4-46ca-404d-818f-c6b8a30397e8",
   "metadata": {},
   "source": [
    "### 4-2. 사이클(순환) 검출\n",
    "- 시간복잡도: O(N)\n",
    "- 공간복잡도: O(1)"
   ]
  },
  {
   "cell_type": "code",
   "execution_count": 23,
   "id": "d571e2c8-acc8-4d95-90f1-520c28c1dfb8",
   "metadata": {},
   "outputs": [],
   "source": [
    "def has_cycle(head):\n",
    "    slow = fast = head\n",
    "    while fast and fast.next:\n",
    "        slow = slow.next\n",
    "        fast = fast.next.next\n",
    "        if slow is fast:\n",
    "            return True\n",
    "    return False"
   ]
  },
  {
   "cell_type": "markdown",
   "id": "42a2f5a0-b198-403d-a28a-81422aca5692",
   "metadata": {},
   "source": [
    "---"
   ]
  },
  {
   "cell_type": "markdown",
   "id": "aa099ce4-f785-4ccb-a64c-6eb6e8ffb944",
   "metadata": {},
   "source": [
    "## 5. 리스트 뒤집기"
   ]
  },
  {
   "cell_type": "markdown",
   "id": "f67923d7-e795-47a1-ba9d-f664a875d74a",
   "metadata": {},
   "source": [
    "### 5-1. 반복문 버전\n",
    "- 시간복잡도: O(N)\n",
    "- 공간복잡도: O(1)"
   ]
  },
  {
   "cell_type": "code",
   "execution_count": 24,
   "id": "69c83272-c867-4057-a64c-3d33f402a1ac",
   "metadata": {},
   "outputs": [],
   "source": [
    "def reverse_list(head):\n",
    "    prev = None\n",
    "    cur = head\n",
    "    while cur:\n",
    "        nxt = cur.next\n",
    "        cur.next = prev\n",
    "        prev = cur\n",
    "        cur = nxt\n",
    "    return prev"
   ]
  },
  {
   "cell_type": "markdown",
   "id": "b5332bd4-9941-4f3b-8a25-aeecadb02fd0",
   "metadata": {},
   "source": [
    "### 5-2. 재귀 버전\n",
    "- 시간복잡도: O(N)\n",
    "- 공간복잡도: O(N) (콜스택)"
   ]
  },
  {
   "cell_type": "code",
   "execution_count": 25,
   "id": "831b243f-04a5-47b7-b5e1-27296f775dd9",
   "metadata": {},
   "outputs": [],
   "source": [
    "def reverse_recursive(node, prev=None):\n",
    "    if not node:\n",
    "        return prev\n",
    "    nxt = node.next\n",
    "    node.next = prev\n",
    "    return reverse_recursive(nxt, node)"
   ]
  },
  {
   "cell_type": "markdown",
   "id": "dbcc8f78-e907-43ac-983a-ed94adb89934",
   "metadata": {},
   "source": [
    "---"
   ]
  },
  {
   "cell_type": "markdown",
   "id": "bd376dd7-909f-4119-a727-8bc114d41c25",
   "metadata": {},
   "source": [
    "## 6. 두 개의 정렬된 리스트 합병\n",
    "- 시간복잡도: O(N + M)\n",
    "- 공간복잡도: O(1)"
   ]
  },
  {
   "cell_type": "code",
   "execution_count": 26,
   "id": "f932659d-08c7-4d49-9e53-5a0e96fe9472",
   "metadata": {},
   "outputs": [],
   "source": [
    "def merge_two_lists(l1, l2):\n",
    "    dummy = tail = ListNode()\n",
    "    while l1 and l2:\n",
    "        if l1.val < l2.val:\n",
    "            tail.next, l1 = l1, l1.next\n",
    "        else:\n",
    "            tail.next, l2 = l2, l2.next\n",
    "        tail = tail.next\n",
    "    tail.next = l1 or l2\n",
    "    return dummy.next"
   ]
  },
  {
   "cell_type": "markdown",
   "id": "fd3aa55f-044e-4fe1-b704-0b73f6910308",
   "metadata": {},
   "source": [
    "---"
   ]
  },
  {
   "cell_type": "markdown",
   "id": "8df73b8e-167a-4430-a0f7-4b6d2eeb8b23",
   "metadata": {},
   "source": [
    "## 7. Pythonic 대안"
   ]
  },
  {
   "cell_type": "markdown",
   "id": "9988b0e8-44c3-4f3d-a296-7f2b175b7585",
   "metadata": {},
   "source": [
    "### 7-1. collections.deque\n",
    "- deque는 양쪽 끝 삽입·삭제 O(1)\n",
    "- 간단한 양방향 큐 구현이 필요할 때 리스트 대신 사용\n",
    "- 시간복잡도: O(1)\n",
    "- 공간복잡도: O(N)"
   ]
  },
  {
   "cell_type": "code",
   "execution_count": 35,
   "id": "b341e865-0f91-46e0-ada6-c1a3e432de93",
   "metadata": {},
   "outputs": [
    {
     "name": "stdout",
     "output_type": "stream",
     "text": [
      "deque([1, 2, 3])\n"
     ]
    }
   ],
   "source": [
    "from collections import deque\n",
    "\n",
    "dq = deque([1, 2, 3])\n",
    "dq.appendleft(0)  # O(1)\n",
    "dq.append(4)      # O(1)\n",
    "dq.popleft()      # O(1)\n",
    "dq.pop()          # O(1)\n",
    "print(dq)"
   ]
  },
  {
   "cell_type": "markdown",
   "id": "2712d442-455c-4b83-9c26-93b0eca162b4",
   "metadata": {},
   "source": [
    "### 7-2. 맨 앞/뒤에 삽입과 삭제 — collections.deque\n",
    "- 연결 리스트 기능: insert_head(), insert_tail(), delete_head(), delete_tail()\n",
    "- 시간복잡도: 모두 O(1)"
   ]
  },
  {
   "cell_type": "code",
   "execution_count": null,
   "id": "0848fece-354f-4414-9a02-e73f90404aab",
   "metadata": {},
   "outputs": [],
   "source": [
    "from collections import deque\n",
    "\n",
    "dq = deque()\n",
    "\n",
    "# 맨 뒤 삽입\n",
    "dq.append(10)    # [10]\n",
    "\n",
    "# 맨 앞 삽입\n",
    "dq.appendleft(5) # [5, 10]\n",
    "\n",
    "# 맨 뒤 삭제\n",
    "dq.pop()         # [5]\n",
    "\n",
    "# 맨 앞 삭제\n",
    "dq.popleft()     # []"
   ]
  },
  {
   "cell_type": "markdown",
   "id": "1c420a7d-622e-4384-b75d-36e2c720ad13",
   "metadata": {},
   "source": [
    "### 7-3. 중간 삽입/삭제 — list + 슬라이싱\n",
    "- 연결 리스트 기능: 특정 위치에 노드를 삽입/삭제\n",
    "- 삽입/삭제 위치가 리스트 중간이면 O(N)"
   ]
  },
  {
   "cell_type": "code",
   "execution_count": null,
   "id": "026aa161-b363-4ec0-973a-ef0c495280d9",
   "metadata": {},
   "outputs": [],
   "source": [
    "arr = [1, 2, 4, 5]\n",
    "\n",
    "# 중간 삽입 (2번째 위치에 3)\n",
    "arr.insert(2, 3)   # [1, 2, 3, 4, 5]\n",
    "\n",
    "# 중간 삭제 (3번째 요소 제거)\n",
    "del arr[3]         # [1, 2, 3, 5]"
   ]
  },
  {
   "cell_type": "markdown",
   "id": "ed21c606-2ec2-40cf-9ef9-a87065326f0f",
   "metadata": {},
   "source": [
    "### 7-4. 포인터 이동 — 인덱스 또는 zip\n",
    "- 연결 리스트 기능: 현재 노드, 다음 노드, 이전 노드 간 이동\n",
    "- 시간복잡도: O(N) 순회"
   ]
  },
  {
   "cell_type": "code",
   "execution_count": null,
   "id": "49ef0b57-9e14-46bb-a3f5-262894af7ee4",
   "metadata": {},
   "outputs": [],
   "source": [
    "arr = [1, 2, 3, 4, 5]\n",
    "\n",
    "# 현재 노드 탐색\n",
    "for i in range(len(arr)):\n",
    "    current = arr[i]\n",
    "    prev = arr[i - 1] if i > 0 else None\n",
    "    next = arr[i + 1] if i < len(arr) - 1 else None"
   ]
  },
  {
   "cell_type": "markdown",
   "id": "ace442d7-d50b-41fe-8ef5-b03c0d980f3a",
   "metadata": {},
   "source": [
    "### 7-5. 노드 값 수정\n",
    "- 연결 리스트 기능: 노드 값 수정\n",
    "- 시간복잡도: O(1)"
   ]
  },
  {
   "cell_type": "code",
   "execution_count": null,
   "id": "2023e1a5-bbd3-4f88-a169-9f352531b3b1",
   "metadata": {},
   "outputs": [],
   "source": [
    "arr = [10, 20, 30]\n",
    "arr[1] = 99        # [10, 99, 30]"
   ]
  },
  {
   "cell_type": "markdown",
   "id": "69839f6e-4aa2-4475-b874-b042e551e351",
   "metadata": {},
   "source": [
    "### 7-6. 리스트 뒤집기 — reverse() 또는 슬라이싱\n",
    "- 연결 리스트 기능: 리스트 순서 반전\n",
    "- 시간복잡도: O(N)"
   ]
  },
  {
   "cell_type": "code",
   "execution_count": null,
   "id": "e1081a4d-c86e-4369-ac10-f49b18120724",
   "metadata": {},
   "outputs": [],
   "source": [
    "arr = [1, 2, 3]\n",
    "\n",
    "# 새 리스트로 뒤집기\n",
    "reversed_arr = arr[::-1]  # [3, 2, 1]\n",
    "\n",
    "# 제자리 뒤집기\n",
    "arr.reverse()             # arr is now [3, 2, 1]"
   ]
  },
  {
   "cell_type": "markdown",
   "id": "c4df7381-f9fc-4f2b-8817-ce7bb7b975cf",
   "metadata": {},
   "source": [
    "### 7-7. 순환(원형 리스트) 구현 — deque + rotate\n",
    "- 연결 리스트 기능: 원형 연결 리스트처럼 순환 탐색\n",
    "- 시간복잡도: O(K) → 보통 K=1~2 정도일 때 실전 사용 가능"
   ]
  },
  {
   "cell_type": "code",
   "execution_count": null,
   "id": "4ab0a185-9ae4-4053-8706-9b2b922da3d7",
   "metadata": {},
   "outputs": [],
   "source": [
    "from collections import deque\n",
    "\n",
    "dq = deque([1, 2, 3, 4])\n",
    "dq.rotate(-1)  # 맨 앞이 뒤로 이동 → [2, 3, 4, 1]\n",
    "dq.rotate(2)   # [3, 4, 1, 2]"
   ]
  },
  {
   "cell_type": "markdown",
   "id": "d9c6d1ba-5073-4c77-8459-bf8eae33a1d7",
   "metadata": {},
   "source": [
    "### 7-8. 노드 간 연결 상태 기억 — dict로 연결 정보 저장\n",
    "- 연결 리스트 기능: node.next, node.prev를 dict로 관리\n",
    "- 시간복잡도: O(1) per access"
   ]
  },
  {
   "cell_type": "code",
   "execution_count": null,
   "id": "cfb20c42-d6df-41f0-a5f7-5e013b17271b",
   "metadata": {},
   "outputs": [],
   "source": [
    "linked = {\n",
    "    1: {'prev': None, 'next': 2},\n",
    "    2: {'prev': 1, 'next': 3},\n",
    "    3: {'prev': 2, 'next': None}\n",
    "}\n",
    "\n",
    "# 노드 2를 삭제하면:\n",
    "linked[1]['next'] = 3\n",
    "linked[3]['prev'] = 1\n",
    "del linked[2]"
   ]
  },
  {
   "cell_type": "markdown",
   "id": "97853295-123a-46e2-850f-4f7efc514ce5",
   "metadata": {},
   "source": [
    "### 7-9. 전체 순회 및 연결 시뮬레이션\n",
    "- 연결 리스트 기능: head부터 순차 탐색\n",
    "- 노드를 정수 or 문자열로 표현할 수 있을 때 유용"
   ]
  },
  {
   "cell_type": "code",
   "execution_count": null,
   "id": "284ae0d8-7c10-4c03-bbc5-e39dc3b87dc9",
   "metadata": {},
   "outputs": [],
   "source": [
    "linked = {1: 2, 2: 3, 3: None}\n",
    "cur = 1\n",
    "while cur is not None:\n",
    "    print(cur)\n",
    "    cur = linked[cur]"
   ]
  }
 ],
 "metadata": {
  "kernelspec": {
   "display_name": "Python 3 (ipykernel)",
   "language": "python",
   "name": "python3"
  },
  "language_info": {
   "codemirror_mode": {
    "name": "ipython",
    "version": 3
   },
   "file_extension": ".py",
   "mimetype": "text/x-python",
   "name": "python",
   "nbconvert_exporter": "python",
   "pygments_lexer": "ipython3",
   "version": "3.12.3"
  }
 },
 "nbformat": 4,
 "nbformat_minor": 5
}
