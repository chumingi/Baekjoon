{
 "cells": [
  {
   "cell_type": "markdown",
   "id": "94a0558e-9cab-47b9-a81b-6c0e3f8c0c7e",
   "metadata": {},
   "source": [
    "- 문제1: N 이하의 자연수 중에서 3의 배수이거나 5의 배수인 수를 모두 합한 값을 반환하는 함수 func1을 작성하라. N은 10만 이하의 자연수이다.\n",
    "```python\n",
    "func1(16) = 60\n",
    "func1(34567) = 278812814\n",
    "func(27639) = 178254968\n",
    "```"
   ]
  },
  {
   "cell_type": "code",
   "execution_count": 9,
   "id": "98c0aaca-20f2-4d1b-b892-f5ee0146b2d4",
   "metadata": {},
   "outputs": [
    {
     "name": "stdout",
     "output_type": "stream",
     "text": [
      "60\n",
      "278812814\n",
      "178254968\n",
      "\n",
      "시간복잡도: O(N)\n"
     ]
    }
   ],
   "source": [
    "def func1(N):\n",
    "    cnt = 0\n",
    "    for i in range(1, N+1):\n",
    "        if (i%3 == 0 or i%5 == 0):\n",
    "            cnt += i\n",
    "    return cnt\n",
    "\n",
    "print(func1(16))\n",
    "print(func1(34567))\n",
    "print(func1(27639))\n",
    "print(\"\\n시간복잡도: O(N)\")"
   ]
  },
  {
   "cell_type": "markdown",
   "id": "25ac29a8-1889-4e2e-9f36-92ccec3539c6",
   "metadata": {},
   "source": [
    "- 문제 2: 주어진 길이 N인 int 배열 arr에서 합이 100인 서로 다른 위치의 두 원소가 존재하면 1, 존재하지 않면 0을 반환하는 함수 int func2(int arr[], int N)을 작성하라. 단, arr의 각 수는 0 이상 100 이하 N은 1000 이하\n",
    "```python\n",
    "func2({1, 52, 48}, 3)     => 1  // 52 + 48 = 100\n",
    "func2({50, 42}, 2)        => 0  // 합 100 불가능\n",
    "func2({4, 13, 63, 87}, 4) => 1  // 13 + 87 = 100\n",
    "```"
   ]
  },
  {
   "cell_type": "code",
   "execution_count": 7,
   "id": "80b93932-1371-483c-816e-514192cedec5",
   "metadata": {},
   "outputs": [
    {
     "name": "stdout",
     "output_type": "stream",
     "text": [
      "1\n",
      "0\n",
      "1\n",
      "\n",
      "시간복잡도: O(N^2)\n"
     ]
    }
   ],
   "source": [
    "def func2(arr, N):\n",
    "    for i in range(0, N-1):\n",
    "        for j in range(i+1, N):\n",
    "            if (arr[i] + arr[j] == 100):\n",
    "                return 1\n",
    "    return 0\n",
    "\n",
    "print(func2([1, 52, 48], 3))\n",
    "print(func2([50, 42], 2))\n",
    "print(func2([4, 13, 63, 87], 4))\n",
    "\n",
    "print(\"\\n시간복잡도: O(N^2)\")"
   ]
  },
  {
   "cell_type": "markdown",
   "id": "47c49938-d836-463e-8812-7cd8379d6cca",
   "metadata": {},
   "source": [
    "- 문제 3: N이 제곱수이면 1을, 아니면 0을 반환하는 함수 func3(int N)을 작성하라. N은 10억 이하의 자연수이다.\n",
    "```python\n",
    "func3(9) = 1\n",
    "func3(693953651) = 0\n",
    "func3(756580036) = 1\n",
    "```"
   ]
  },
  {
   "cell_type": "code",
   "execution_count": 16,
   "id": "8c20b7b2-2a34-4b5e-8f3e-b3663f88a550",
   "metadata": {},
   "outputs": [
    {
     "name": "stdout",
     "output_type": "stream",
     "text": [
      "1\n",
      "0\n",
      "1\n",
      "\n",
      "시간 복잡도: O(logN)\n"
     ]
    }
   ],
   "source": [
    "def func3(N):\n",
    "    i = 1\n",
    "    while (i**2 <= N):\n",
    "        if (i**2 == N):\n",
    "            return 1\n",
    "        i += 1\n",
    "    return 0\n",
    "\n",
    "print(func3(9))\n",
    "print(func3(693953651))\n",
    "print(func3(756580036))\n",
    "print(\"\\n시간 복잡도: O(logN)\")"
   ]
  },
  {
   "cell_type": "markdown",
   "id": "b5005912-2028-4994-849f-f072d4bd4f0f",
   "metadata": {},
   "source": [
    "- 문제 4: N 이하 수 중에서 가장 큰 2의 거듭제곱수를 반환하는 함수 func4(int N)을 작성하라. N은 10억 이하의 자연수이다.\n",
    "```python\n",
    "func4(5) = 4\n",
    "func4(97616282) = 67108864\n",
    "func4(1024) = 1024\n",
    "```"
   ]
  },
  {
   "cell_type": "code",
   "execution_count": 19,
   "id": "8309f190-1fa9-4a65-a6bb-f64e4ee29326",
   "metadata": {},
   "outputs": [
    {
     "name": "stdout",
     "output_type": "stream",
     "text": [
      "4\n",
      "67108864\n",
      "1024\n",
      "\n",
      "시간복잡도: O(2**N)\n"
     ]
    }
   ],
   "source": [
    "def func4(N):\n",
    "    # 방법 1\n",
    "    val = 1\n",
    "    while (2*val <= N): val *= 2\n",
    "    return val\n",
    "\n",
    "    # 방법 2\n",
    "    import math\n",
    "    power = int(math.log2(N))\n",
    "    return 2**power\n",
    "\n",
    "print(func4(5))\n",
    "print(func4(97616282))\n",
    "print(func4(1024))\n",
    "print(\"\\n시간복잡도: O(2**N)\")"
   ]
  },
  {
   "cell_type": "markdown",
   "id": "6ee9d999-41d0-4644-be94-30fc8d3d2828",
   "metadata": {},
   "source": [
    "---"
   ]
  },
  {
   "cell_type": "markdown",
   "id": "c17127b2-f40a-4714-a461-58992873526b",
   "metadata": {},
   "source": [
    "## 공간 복잡도\n",
    "- 입력의 크기와 문제의 해결에 필요한 공간의 상관관계\n",
    "- 예) 크기 N짜리 2차원 배열: O($N**2)\n",
    "- 예) 배열이 필요없다면: O(1)\n",
    "- 메모리 제한이 512MB일 때, int 변수를 대략 1.2억개 선언 가능"
   ]
  },
  {
   "cell_type": "markdown",
   "id": "5c0e6c08-1334-41dd-9b07-cfe55ae70bfb",
   "metadata": {},
   "source": [
    "## 정수 자료형\n",
    "1. C++\n",
    "   - char(1byte): 127까지 표현 가능\n",
    "   - short(2byte)\n",
    "   - int(4byte): 21억까지 표현 가능\n",
    "   - long long(8byte): int 자료형의 범위를 넘어서는 수를 저장하려면 long long 사용\n",
    "2. 파이썬\n",
    "3. - 자료형 범위 고려하지 않아도 됨"
   ]
  },
  {
   "cell_type": "markdown",
   "id": "58ceaf97-3cc9-4dc7-b906-820cc6e637c3",
   "metadata": {},
   "source": [
    "## 실수 자료형\n",
    "- 연산 과정에서 오차 발생\n",
    "- float이 double 내포. 64비트\n",
    "- 실수를 비교할 때는 등호를 사용하면 안 됨"
   ]
  },
  {
   "cell_type": "code",
   "execution_count": 26,
   "id": "235b2fd6-1468-4903-a4a8-7fab429fad4d",
   "metadata": {},
   "outputs": [
    {
     "name": "stdout",
     "output_type": "stream",
     "text": [
      "True\n",
      "3.141593\n"
     ]
    }
   ],
   "source": [
    "# 정밀도 문제 해결\n",
    "a, b = 0.2, 0.1+0.1\n",
    "print(abs(a - b) < 1e-9)  # 실수 비교는 이렇게\n",
    "# 소수점 제한 출력\n",
    "c = 3.1415926535\n",
    "print(f\"{c:.6f}\")  # 소수점 아래 6자리까지 출력"
   ]
  },
  {
   "cell_type": "markdown",
   "id": "fd908172-d5d0-4db6-9a2e-a8eb7c61a840",
   "metadata": {},
   "source": [
    "## 표준 입출력"
   ]
  },
  {
   "cell_type": "markdown",
   "id": "5733bb19-40af-47c8-b29d-7f4a69e2d9a0",
   "metadata": {},
   "source": [
    "1. 표준 입력"
   ]
  },
  {
   "cell_type": "code",
   "execution_count": 7,
   "id": "4efd8e60-58c8-400c-b131-b0caf247343d",
   "metadata": {},
   "outputs": [
    {
     "name": "stdin",
     "output_type": "stream",
     "text": [
      " 10\n"
     ]
    },
    {
     "name": "stdout",
     "output_type": "stream",
     "text": [
      "10\n"
     ]
    }
   ],
   "source": [
    "# 느림\n",
    "a = int(input().strip())\n",
    "print(a)\n",
    "\n",
    "# 빠름\n",
    "# import sys\n",
    "# b = sys.stdin.readline()\n",
    "# print(b)"
   ]
  },
  {
   "cell_type": "code",
   "execution_count": 17,
   "id": "d9f9cd65-aaf6-4991-a51b-ab61b859f91b",
   "metadata": {},
   "outputs": [
    {
     "name": "stdin",
     "output_type": "stream",
     "text": [
      " 2 3\n",
      " 2 3 4 5\n"
     ]
    },
    {
     "name": "stdout",
     "output_type": "stream",
     "text": [
      "2 3 [2, 3, 4, 5]\n"
     ]
    }
   ],
   "source": [
    "# 리스트로 여러 값 입력 받기\n",
    "c, d = map(int, input().split())\n",
    "arr = list(map(int, input().split()))\n",
    "print(c, d, arr)"
   ]
  },
  {
   "cell_type": "code",
   "execution_count": 19,
   "id": "77e643a3-a03d-427a-8de1-f11d42e7b51b",
   "metadata": {},
   "outputs": [],
   "source": [
    "### 2. 표준 출력"
   ]
  },
  {
   "cell_type": "code",
   "execution_count": 21,
   "id": "f5376e54-73fb-42f1-89a9-ff8e3fbaf68e",
   "metadata": {},
   "outputs": [
    {
     "name": "stdout",
     "output_type": "stream",
     "text": [
      "Hello 123\n",
      "Ab\n"
     ]
    }
   ],
   "source": [
    "# 기본 출력\n",
    "print(\"Hello\", 123)\n",
    "print(\"A\", end='')\n",
    "print(\"b\", end='\\n')"
   ]
  },
  {
   "cell_type": "code",
   "execution_count": 37,
   "id": "d4a68f77-7309-475f-917c-fd219f99c94c",
   "metadata": {},
   "outputs": [
    {
     "name": "stdout",
     "output_type": "stream",
     "text": [
      "[1, 2, 3, 4]\n",
      "1 2 3 4\n"
     ]
    }
   ],
   "source": [
    "# 리스트 출력\n",
    "arr = [1, 2, 3, 4]\n",
    "print(arr)\n",
    "print(*arr)"
   ]
  },
  {
   "cell_type": "markdown",
   "id": "9797cee8-a2e6-42a7-81db-e48b071e3c66",
   "metadata": {},
   "source": [
    "### 3. 대량 입출력\n",
    "```python\n",
    "import sys\n",
    "input = sys.stdin.readline\n",
    "\n",
    "n = int(input())\n",
    "arr = []\n",
    "for _ in range(n):\n",
    "    arr.append(int(input()))\n",
    "\n",
    "for x in arr:\n",
    "    print(x)\n",
    "```\n",
    "또는\n",
    "```python\n",
    "print('\\n'.join(map(str, arr)))  # 줄바꿈 기준 한 번에 출력\n",
    "```"
   ]
  },
  {
   "cell_type": "code",
   "execution_count": null,
   "id": "b1bc1b10-f2e1-4393-8060-e36422c098fc",
   "metadata": {},
   "outputs": [],
   "source": [
    "## 코딩테스트 닙\n",
    "1. 토딩테스트와 개발은 다르다."
   ]
  }
 ],
 "metadata": {
  "kernelspec": {
   "display_name": "Python 3 (ipykernel)",
   "language": "python",
   "name": "python3"
  },
  "language_info": {
   "codemirror_mode": {
    "name": "ipython",
    "version": 3
   },
   "file_extension": ".py",
   "mimetype": "text/x-python",
   "name": "python",
   "nbconvert_exporter": "python",
   "pygments_lexer": "ipython3",
   "version": "3.12.7"
  }
 },
 "nbformat": 4,
 "nbformat_minor": 5
}
