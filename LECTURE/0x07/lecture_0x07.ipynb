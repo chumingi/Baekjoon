{
 "cells": [
  {
   "cell_type": "markdown",
   "id": "6b384098-5f7b-45aa-b0f3-20a32b282239",
   "metadata": {},
   "source": [
    "# 0x07 - 덱"
   ]
  },
  {
   "cell_type": "markdown",
   "id": "3ae5dbcd-2e86-4dc5-a9d7-b9c060851b6f",
   "metadata": {},
   "source": [
    "## 1. 덱이란?\n",
    "\n",
    "- Deque = Double-Ended-Queue\n",
    "- 앞(front)과 뒤(back) 양쪽에서 삽입과 삭제가 모두 가능한 자료구조\n",
    "- 스택 + 큐의 기능을 모두 가짐.\n",
    "\n",
    "### 대표 특성\n",
    "- 선입선출도 가능하고 후입선출도 가능함.\n",
    "- 양방향으로 요소를 넣고 뺄 수 있어 시뮬레이션 문제에 최적"
   ]
  },
  {
   "cell_type": "markdown",
   "id": "d6cf7483-af3e-44c3-8189-48a57467d49f",
   "metadata": {},
   "source": [
    "---"
   ]
  },
  {
   "cell_type": "markdown",
   "id": "db59e3e9-30ce-4fa6-bf4d-02aa685dea5a",
   "metadata": {},
   "source": [
    "## 2. Python에서 덱 구현\n",
    "\n",
    "```python\n",
    "from collections import deque\n",
    "\n",
    "dq = deque()\n",
    "\n",
    "dq.append(10)       # 뒤에 삽입\n",
    "dq.appendleft(5)    # 앞에 삽입\n",
    "dq.pop()            # 뒤에서 삭제\n",
    "dq.popleft()        # 앞에서 삭제\n",
    "```"
   ]
  },
  {
   "cell_type": "markdown",
   "id": "9ad990f0-cc31-4ad7-a121-ebfa256ca93b",
   "metadata": {},
   "source": [
    "---"
   ]
  },
  {
   "cell_type": "markdown",
   "id": "728a5403-6cfc-4e03-a5fa-0159fc0f79b3",
   "metadata": {},
   "source": [
    "## 3. 덱이 필요한 실전 상황\n",
    "\n",
    "1. 시뮬레이션\n",
    "   - 앞뒤 조작, 방향 전환\n",
    "   - 양쪽 조작 가능\n",
    "3. 회전 큐\n",
    "   - 요소 회전, 탐색\n",
    "   - rotate() or append/pop 양쪽\n",
    "5. 슬라이딩 윈도우\n",
    "   - 최소/최대값 유지\n",
    "   - 중간 삽입 없이 가장 빠름\n",
    "7. 반전 처리\n",
    "   - AC 문제처럼 방향만 바뀌는 문제\n",
    "   - 리스트 뒤집기보다 효율적\n",
    "9. 좌우 포인터\n",
    "   - 양방향에서 탐색 및 처리\n",
    "   - 투포인터 대체 가능"
   ]
  },
  {
   "cell_type": "markdown",
   "id": "a58c26b8-22b3-4bf8-9323-a1474b467ab1",
   "metadata": {},
   "source": [
    "---"
   ]
  },
  {
   "cell_type": "markdown",
   "id": "26d42fc3-3dfa-4ecb-a390-3bc37cc1c9a3",
   "metadata": {},
   "source": [
    "## 4️. 실전 문제 유형 및 풀이 전략\n",
    "\n",
    "### 유형 1: 기본 구현\n",
    "- 문제: BOJ 10866 - 덱\n",
    "- 전략: 명령어 처리 → 덱 연산 매핑\n",
    "```python\n",
    "dq.append(x)\n",
    "dq.appendleft(x)\n",
    "dq.pop() / dq.popleft()\n",
    "```\n",
    "\n",
    "### 유형 2: 회전 큐\n",
    "- 문제: BOJ 1021 - 회전하는 큐\n",
    "- 전략: 타겟 값이 앞/뒤 중 어디에 가까운지 판단 → 최소 이동\n",
    "```python\n",
    "dq.rotate(-1)   # 왼쪽으로 한 칸 이동\n",
    "dq.rotate(1)    # 오른쪽으로 한 칸 이동\n",
    "```\n",
    "\n",
    "### 유형 3: 방향 반전 시뮬레이션\n",
    "- 문제: BOJ 5430 - AC\n",
    "- 전략: R 명령 → 실제 reverse 대신 flag로 처리\n",
    "```python\n",
    "reversed_flag = False\n",
    "\n",
    "if reversed_flag:\n",
    "    dq.pop()\n",
    "else:\n",
    "    dq.popleft()\n",
    "```\n",
    "\n",
    "### 유형 4: 슬라이딩 윈도우 최솟값\n",
    "- 문제: BOJ 11003 - 최솟값 찾기\n",
    "- 전략: 현재 값보다 큰 값은 모두 제거하고, 유효 범위만 유지\n",
    "```python\n",
    "while dq and dq[-1][0] > value:\n",
    "    dq.pop()\n",
    "dq.append((value, index))\n",
    "if dq[0][1] <= index - window_size:\n",
    "    dq.popleft()\n",
    "```"
   ]
  },
  {
   "cell_type": "markdown",
   "id": "3a9d2590-fa3c-4d17-a041-cebe415b86c9",
   "metadata": {},
   "source": [
    "---"
   ]
  },
  {
   "cell_type": "markdown",
   "id": "feb0180c-5f72-4081-bb84-aed893cba90f",
   "metadata": {},
   "source": [
    "## 5. 실전 실수 방지 포인트\n",
    "- list.pop(0)은 절대 사용 금지 → 시간초과\n",
    "- deque는 슬라이싱 불가 → dq[::-1] 안 됨\n",
    "- reverse 구현은 flag로 처리하면 빠름\n",
    "- 슬라이딩 윈도우는 인덱스와 값 모두 저장해야 함"
   ]
  },
  {
   "cell_type": "markdown",
   "id": "6c5e14b1-1f8e-4fff-9617-098eb94e77eb",
   "metadata": {},
   "source": [
    "---"
   ]
  },
  {
   "cell_type": "markdown",
   "id": "fc2a8ca4-3151-48d7-b59c-34494bbb2700",
   "metadata": {},
   "source": [
    "## 6. 추천 문제 루트 (기초 → 응용)\n",
    "1. [BOJ 10866 - 덱] → 명령어 연습\n",
    "2. [BOJ 1021 - 회전 큐] → 덱 회전 실습\n",
    "3. [BOJ 5430 - AC] → 방향 반전 & pop 조작\n",
    "4. [BOJ 11003 - 최솟값 찾기] → 슬라이딩 윈도우\n",
    "5. [BOJ 3190 - 뱀] → 시뮬레이션, 몸통 = 덱"
   ]
  }
 ],
 "metadata": {
  "kernelspec": {
   "display_name": "Python 3 (ipykernel)",
   "language": "python",
   "name": "python3"
  },
  "language_info": {
   "codemirror_mode": {
    "name": "ipython",
    "version": 3
   },
   "file_extension": ".py",
   "mimetype": "text/x-python",
   "name": "python",
   "nbconvert_exporter": "python",
   "pygments_lexer": "ipython3",
   "version": "3.12.3"
  }
 },
 "nbformat": 4,
 "nbformat_minor": 5
}
