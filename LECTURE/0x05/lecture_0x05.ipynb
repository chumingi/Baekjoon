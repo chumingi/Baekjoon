{
 "cells": [
  {
   "cell_type": "markdown",
   "id": "895ac02b-8d7b-4b10-b4cc-a524bd0020da",
   "metadata": {},
   "source": [
    "# 0x05 - 스택"
   ]
  },
  {
   "cell_type": "markdown",
   "id": "a4acbbdb-0b82-466b-9e2e-35157ae78b79",
   "metadata": {},
   "source": [
    "## 1. 정의와 성질\n",
    "\n",
    "### 1-1. 정의\n",
    "- 한 쪽 끝에서만 원소를 넣고 뺄 수 있는 자료구조\n",
    "- 가장 나중에 넣은 원소가 가장 먼저 나옴 (LIFO, Last In First Out)\n",
    "\n",
    "### 1-2. 성질\n",
    "- 원소의 추가/제거에 O(1)의 시간이 필요함.\n",
    "- 제일 상단의 원소 확인에 O(1)의 시간이 필요함.\n",
    "- 원칙적으로 최상단 이외의 원소들은 확인/변경이 불가능함. (배열을 이용하여 구현하면 가능함)"
   ]
  },
  {
   "cell_type": "markdown",
   "id": "82b07c31-e782-49ee-bcc4-35c136aa802a",
   "metadata": {},
   "source": [
    "---"
   ]
  },
  {
   "cell_type": "markdown",
   "id": "120d03fe-becc-469c-82be-97a9a12726b5",
   "metadata": {},
   "source": [
    "## 2. 스택 기본 연산\n",
    "\n",
    "1. push(x)\n",
    "   - 의미: 데이터 추가\n",
    "   - python: stack.append(x)\n",
    "2. pop()\n",
    "   - 의미: 마지막 데이터 제거\n",
    "   - python: stack.pop()\n",
    "3. peek()\n",
    "   - 의미: 마지막 데이터 확인\n",
    "   - python: stack[-1]\n",
    "5. empty()\n",
    "   - 의미: 스택이 비었는지 확인\n",
    "   - python: not stack"
   ]
  },
  {
   "cell_type": "markdown",
   "id": "40f51555-c081-47be-af7d-7081cef33355",
   "metadata": {},
   "source": [
    "---"
   ]
  },
  {
   "cell_type": "markdown",
   "id": "e146da98-21be-4e99-a0b2-c8bd4322f77c",
   "metadata": {},
   "source": [
    "## 3. Python에서 스택은 list로 구현 가능\n",
    "- 시간복잡도: O(1)\n",
    "- 공간복잡도: O(N)\n",
    "\n",
    "```python\n",
    "stack = []\n",
    "\n",
    "stack.append(10)   # push\n",
    "stack.append(20)\n",
    "\n",
    "top = stack[-1]    # peek → 20\n",
    "val = stack.pop()  # pop → 20\n",
    "empty = not stack  # is empty? → False\n",
    "```"
   ]
  },
  {
   "cell_type": "markdown",
   "id": "4f56ea41-2f88-482a-a096-d197b5008153",
   "metadata": {},
   "source": [
    "---"
   ]
  },
  {
   "cell_type": "markdown",
   "id": "694d026b-44e7-43ea-a8b7-5409907ae142",
   "metadata": {},
   "source": [
    "## 4. 스택이 잘 쓰이는 대표 상황\n",
    "1. 괄호 짝 검사\n",
    "2. 뒤에서부터 비교하기 (가장 가까운 큰 수 등)\n",
    "3. 문자열 구성 (키로거, 에디터)\n",
    "4. 백트래킹의 경로 저장\n",
    "5. 재귀 제거 (반복문으로 DFS 구현 등)"
   ]
  }
 ],
 "metadata": {
  "kernelspec": {
   "display_name": "Python 3 (ipykernel)",
   "language": "python",
   "name": "python3"
  },
  "language_info": {
   "codemirror_mode": {
    "name": "ipython",
    "version": 3
   },
   "file_extension": ".py",
   "mimetype": "text/x-python",
   "name": "python",
   "nbconvert_exporter": "python",
   "pygments_lexer": "ipython3",
   "version": "3.12.3"
  }
 },
 "nbformat": 4,
 "nbformat_minor": 5
}
