{
 "cells": [
  {
   "cell_type": "markdown",
   "id": "e0acde1e-2e6e-4029-b218-3222bc7a275f",
   "metadata": {},
   "source": [
    "# 0x06 - 큐"
   ]
  },
  {
   "cell_type": "markdown",
   "id": "2801b6ae-5da7-438f-9851-f20e3022db2f",
   "metadata": {},
   "source": [
    "## 1. 큐란?\n",
    "\n",
    "- FIFO (First In First Out) 자료구조\n",
    "- 먼저 들어온 데이터가 먼저 나감.\n",
    "- 입구와 출구가 다름.\n",
    "- 줄 서기, 요청 처리, BFS 등에 적합"
   ]
  },
  {
   "cell_type": "markdown",
   "id": "40a008df-6922-4359-a807-4cf4bc23ca73",
   "metadata": {},
   "source": [
    "---"
   ]
  },
  {
   "cell_type": "markdown",
   "id": "2d473e96-36c0-48c0-ba76-adbe060f25c7",
   "metadata": {},
   "source": [
    "## 2. 큐의 주요 연산\n",
    "\n",
    "1. enque(x)\n",
    "   - 의미: 데이터 삽입\n",
    "   - python: queue.append(x)\n",
    "2. deque()\n",
    "   - 의미: 데이터 제거\n",
    "   - python: queue.popleft()\n",
    "3. peek()\n",
    "   - 의미: 첫 원소 확인\n",
    "   - python: queue[0]\n",
    "4. empty()\n",
    "   - 의미: 큐가 비었는지 확인\n",
    "   - python: not queue"
   ]
  },
  {
   "cell_type": "markdown",
   "id": "3132256b-a1ef-4026-b800-c3c154345c5d",
   "metadata": {},
   "source": [
    "---"
   ]
  },
  {
   "cell_type": "markdown",
   "id": "872e92fd-52e7-4601-958d-1e26adb60f04",
   "metadata": {},
   "source": [
    "## 3. Python에서 큐 구현\n",
    "\n",
    "- collections.deque() 사용 - 모든 연산 O(1)\n",
    "- 공간복잡도: O(N)\n",
    "\n",
    "```python\n",
    "from collections import deque\n",
    "\n",
    "queue = deque()\n",
    "\n",
    "queue.append(10)     # enqueue\n",
    "queue.append(20)\n",
    "print(queue.popleft())  # dequeue → 10\n",
    "print(queue[0])         # peek → 20\n",
    "print(not queue)        # empty → False\n",
    "```"
   ]
  },
  {
   "cell_type": "markdown",
   "id": "00f2b836-e6ae-4a6f-910e-188ff38ed839",
   "metadata": {},
   "source": [
    "---"
   ]
  },
  {
   "cell_type": "markdown",
   "id": "ff411a2d-3187-443d-bff5-3421f4974472",
   "metadata": {},
   "source": [
    "## 4. 큐가 쓰이는 대표 상황\n",
    "\n",
    "1. BFS(너비 우선 탐색) - 미로 탐색, 거리 측정\n",
    "2. 시뮬레이션 - 프로세스 관리, 카드 게임\n",
    "3. 순차 처리 - 작업 스케줄, 프린터 큐\n",
    "4. 캐시 처리 - LRU Cache, 페이지 교체"
   ]
  },
  {
   "cell_type": "markdown",
   "id": "a242f2b4-c19b-4442-b406-3326bb31eb20",
   "metadata": {},
   "source": [
    "---"
   ]
  },
  {
   "cell_type": "markdown",
   "id": "a759b580-5e5b-4609-a62c-11147713e87f",
   "metadata": {},
   "source": [
    "## 5. 자주 나오는 큐 문제들 (백준 기준)\n",
    "\n",
    "1. 10845(큐) - 구현 기본기\n",
    "2. 18258(큐 2) - 빠른 입출력 + deque\n",
    "3. 2164(카드2) - 시뮬레이션\n",
    "4. 1158(요세푸스) - 원형 큐\n",
    "5. 1697(숨바꼭질) - BFS (최단 거리)\n",
    "6. 7576(토마토) - BFS (2차원 탐색)"
   ]
  }
 ],
 "metadata": {
  "kernelspec": {
   "display_name": "Python 3 (ipykernel)",
   "language": "python",
   "name": "python3"
  },
  "language_info": {
   "codemirror_mode": {
    "name": "ipython",
    "version": 3
   },
   "file_extension": ".py",
   "mimetype": "text/x-python",
   "name": "python",
   "nbconvert_exporter": "python",
   "pygments_lexer": "ipython3",
   "version": "3.12.3"
  }
 },
 "nbformat": 4,
 "nbformat_minor": 5
}
